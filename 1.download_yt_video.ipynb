{
 "cells": [
  {
   "cell_type": "code",
   "execution_count": 2,
   "metadata": {},
   "outputs": [],
   "source": [
    "import os\n",
    "from pytube import YouTube\n",
    "import yt_dlp\n",
    "import re"
   ]
  },
  {
   "cell_type": "code",
   "execution_count": 3,
   "metadata": {},
   "outputs": [],
   "source": [
    "\n",
    "def correct_filepath(filepath):\n",
    "    # replace special characters and spaces with underscores\n",
    "    path, filename = os.path.split(filepath)\n",
    "    # filename, ext = os.path.splitext(filename)\n",
    "    sanitized_filename = re.sub(r'[^\\w\\s._-]', '_', filename)\n",
    "    sanitized_filename = re.sub(r'\\s+', '_', sanitized_filename)\n",
    "    #Rename file path\n",
    "    new_filepath = os.path.join(path, sanitized_filename)\n",
    "    os.rename(filepath, new_filepath)\n",
    "    return new_filepath\n",
    "\n",
    "\n",
    "def get_youtube(video_url, save_dir=\"data/videos\"):\n",
    "    # yt = YouTube(video_url)\n",
    "    # abs_video_path = yt.streams.filter(progressive=True, file_extension='mp4').order_by('resolution').desc().first().download()\n",
    "    video_path = os.path.join(save_dir, f'%(title)s.%(ext)s')\n",
    "    ydl_opts = {\n",
    "      'format': 'bestvideo[ext=mp4]+bestaudio[ext=m4a]/best[ext=mp4]/best',\n",
    "      'outtmpl': video_path\n",
    "    }\n",
    "\n",
    "    with yt_dlp.YoutubeDL(ydl_opts) as ydl:\n",
    "        ydl.download([video_url])\n",
    "        info = ydl.extract_info(video_url, download=False)\n",
    "        output_path = ydl.prepare_filename(info)\n",
    "        print(output_path)\n",
    "        # abs_video_path = ydl.prepare_filename(info)\n",
    "        # # abs_video_path = os.path.join(save_dir, video_name)\n",
    "        # ydl.process_info(info)\n",
    "    # Correct file name\n",
    "    output_path = correct_filepath(output_path)\n",
    "    print(f\"Success download video, save at {output_path}\")\n",
    "    return output_path"
   ]
  },
  {
   "cell_type": "code",
   "execution_count": 4,
   "metadata": {},
   "outputs": [
    {
     "name": "stdout",
     "output_type": "stream",
     "text": [
      "[youtube] Extracting URL: https://www.youtube.com/watch?v=poOBVai4HsQ\n",
      "[youtube] poOBVai4HsQ: Downloading webpage\n",
      "[youtube] poOBVai4HsQ: Downloading ios player API JSON\n",
      "[youtube] poOBVai4HsQ: Downloading android player API JSON\n",
      "[youtube] poOBVai4HsQ: Downloading m3u8 information\n",
      "[info] poOBVai4HsQ: Downloading 1 format(s): 614+140\n",
      "[hlsnative] Downloading m3u8 manifest\n",
      "[hlsnative] Total fragments: 89\n",
      "[download] Destination: data/videos/GPT NEEDED THIS!! DALL-E 3 IS HERE & YOU CAN TRY IT FREE.f614.mp4\n",
      "[download] 100% of   54.93MiB in 00:00:40 at 1.36MiB/s                    \n",
      "[download] Destination: data/videos/GPT NEEDED THIS!! DALL-E 3 IS HERE & YOU CAN TRY IT FREE.f140.m4a\n",
      "[download] 100% of    7.27MiB in 00:00:00 at 8.38MiB/s   \n",
      "[Merger] Merging formats into \"data/videos/GPT NEEDED THIS!! DALL-E 3 IS HERE & YOU CAN TRY IT FREE.mp4\"\n",
      "Deleting original file data/videos/GPT NEEDED THIS!! DALL-E 3 IS HERE & YOU CAN TRY IT FREE.f140.m4a (pass -k to keep)\n",
      "Deleting original file data/videos/GPT NEEDED THIS!! DALL-E 3 IS HERE & YOU CAN TRY IT FREE.f614.mp4 (pass -k to keep)\n",
      "[youtube] Extracting URL: https://www.youtube.com/watch?v=poOBVai4HsQ\n",
      "[youtube] poOBVai4HsQ: Downloading webpage\n",
      "[youtube] poOBVai4HsQ: Downloading ios player API JSON\n",
      "[youtube] poOBVai4HsQ: Downloading android player API JSON\n",
      "[youtube] poOBVai4HsQ: Downloading m3u8 information\n",
      "data/videos/GPT NEEDED THIS!! DALL-E 3 IS HERE & YOU CAN TRY IT FREE.mp4\n",
      "Success download video, save at data/videos/GPT_NEEDED_THIS___DALL-E_3_IS_HERE___YOU_CAN_TRY_IT_FREE.mp4\n"
     ]
    },
    {
     "data": {
      "text/plain": [
       "'data/videos/GPT_NEEDED_THIS___DALL-E_3_IS_HERE___YOU_CAN_TRY_IT_FREE.mp4'"
      ]
     },
     "execution_count": 4,
     "metadata": {},
     "output_type": "execute_result"
    }
   ],
   "source": [
    "get_youtube(\"https://www.youtube.com/watch?v=poOBVai4HsQ\")"
   ]
  },
  {
   "cell_type": "code",
   "execution_count": null,
   "metadata": {},
   "outputs": [],
   "source": []
  }
 ],
 "metadata": {
  "kernelspec": {
   "display_name": "vidtrans_env",
   "language": "python",
   "name": "python3"
  },
  "language_info": {
   "codemirror_mode": {
    "name": "ipython",
    "version": 3
   },
   "file_extension": ".py",
   "mimetype": "text/x-python",
   "name": "python",
   "nbconvert_exporter": "python",
   "pygments_lexer": "ipython3",
   "version": "3.10.13"
  },
  "orig_nbformat": 4
 },
 "nbformat": 4,
 "nbformat_minor": 2
}
