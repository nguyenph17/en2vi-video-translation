{
 "cells": [
  {
   "cell_type": "code",
   "execution_count": 1,
   "metadata": {},
   "outputs": [
    {
     "name": "stderr",
     "output_type": "stream",
     "text": [
      "/home/nguyenph/miniconda3/envs/vidtrans_env/lib/python3.10/site-packages/tqdm/auto.py:21: TqdmWarning: IProgress not found. Please update jupyter and ipywidgets. See https://ipywidgets.readthedocs.io/en/stable/user_install.html\n",
      "  from .autonotebook import tqdm as notebook_tqdm\n"
     ]
    }
   ],
   "source": [
    "import torch\n",
    "from transformers import AutoTokenizer, AutoModelForSeq2SeqLM\n",
    "\n",
    "tokenizer_en2vi = AutoTokenizer.from_pretrained(\"vinai/vinai-translate-en2vi\", src_lang=\"en_XX\")\n",
    "model_en2vi = AutoModelForSeq2SeqLM.from_pretrained(\"vinai/vinai-translate-en2vi\")\n",
    "\n",
    "def translate_en2vi(en_text: str) -> str:\n",
    "    \"\"\"Translate English text to Vietnamese\n",
    "\n",
    "    Args:\n",
    "        en_text (str): input text with the limit to 3000 CHARACTERS\n",
    "\n",
    "    Returns:\n",
    "        str: Vietnamese text\n",
    "    \"\"\"\n",
    "    input_ids = tokenizer_en2vi(en_text, return_tensors=\"pt\").input_ids\n",
    "    output_ids = model_en2vi.generate(\n",
    "        input_ids,\n",
    "        decoder_start_token_id=tokenizer_en2vi.lang_code_to_id[\"vi_VN\"],\n",
    "        num_return_sequences=1,\n",
    "        num_beams=5,\n",
    "        early_stopping=True\n",
    "    )\n",
    "    vi_text = tokenizer_en2vi.batch_decode(output_ids, skip_special_tokens=True)\n",
    "    vi_text = \" \".join(vi_text)\n",
    "    return vi_text"
   ]
  },
  {
   "cell_type": "code",
   "execution_count": null,
   "metadata": {},
   "outputs": [],
   "source": [
    "en_text = \"I haven't been to a public gym before. When I exercise in a private space, I feel more comfortable.\"\n",
    "print(translate_en2vi(en_text))\n",
    "\n",
    "en_text = \"i haven't been to a public gym before when i exercise in a private space i feel more comfortable\"\n",
    "print(translate_en2vi(en_text))"
   ]
  },
  {
   "cell_type": "code",
   "execution_count": 21,
   "metadata": {},
   "outputs": [],
   "source": [
    "import csv\n",
    "from utils import write_list_to_csv\n",
    "import os\n",
    "\n",
    "def translate_text_segments(text_segment_file, out_dir='data/translated_texts/'):\n",
    "    with open(text_segment_file) as csv_file:\n",
    "        translated_segments = []\n",
    "        csv_reader = csv.reader(csv_file, delimiter=',')\n",
    "        for row in csv_reader:\n",
    "            translated_text = translate_en2vi(row[2])\n",
    "            print(translated_text)\n",
    "            row[2] = translated_text\n",
    "            translated_segments.append(row)\n",
    "    \n",
    "    file_name = os.path.basename(text_segment_file)\n",
    "    file_path = os.path.join(out_dir, file_name)\n",
    "    return write_list_to_csv(translated_segments, file_path)"
   ]
  },
  {
   "cell_type": "code",
   "execution_count": 22,
   "metadata": {},
   "outputs": [
    {
     "name": "stdout",
     "output_type": "stream",
     "text": [
      "OpenAI đã tiếp quản AI tạo văn bản với GPT, mô hình ngôn ngữ chịu trách nhiệm cho trình tạo văn bản lan truyền, ChatGPT. Bây giờ họ đang chuyển sang không gian tạo văn bản thành hình ảnh với trình tạo hình ảnh sắp ra mắt có tên Dali3. Bạn sẽ gọi công cụ AI tạo văn bản thành hình ảnh hàng đầu trên thị trường ngay bây giờ là gì? Mid-Journey, Deep Floyd hay có lẽ là Jasper Art? Dali3 dự kiến sẽ tạo ra hình ảnh chân thực hơn với màu sắc sắc nét hơn, hình dạng được xác định rõ hơn và chú ý đến chi tiết hơn. Đừng tin tôi? Hãy tiếp tục xem để tự mình xem và chúng tôi thậm chí sẽ chỉ cho bạn cách bạn có thể truy cập Dali3 miễn phí.\n",
      "Dali3 là phiên bản mới nhất của các mô hình tổng hợp hình ảnh của OpenAI, tạo ra hình ảnh bằng cách làm theo các mô tả văn bản phức tạp. Người dùng gõ một mô tả chi tiết về một hình ảnh từ trí tưởng tượng của họ, và mô hình đu vào hành động, đưa giấc mơ vào cuộc sống.\n",
      "Dali có thể tạo ra bất cứ thứ gì từ các đối tượng đơn lẻ đến toàn bộ khung cảnh của các đối tượng tương tác, nhờ một kỹ thuật học sâu gọi là Phổ biến tiềm ẩn. Trình tạo hình ảnh biết cách tạo ra hình ảnh từ các từ. Vậy Phổ biến tiềm ẩn này hoạt động như thế nào? Về cơ bản, các kỹ sư tại OpenAI dạy mô hình liên kết các từ với hình ảnh bằng cách hiển thị cho nó hàng triệu bức ảnh được tạo bởi các nhiếp ảnh gia, nghệ sĩ con người và ảnh chứng khoán với giấy phép phù hợp.\n",
      "Các phiên bản trước của Dali sử dụng cùng một phong cách đào tạo, nhưng lần này, OpenAI đã ném một số kỹ thuật học sâu bổ sung vào hỗn hợp và dành nhiều thời gian đào tạo tính toán hơn. Nhóm phát triển OpenAI thực sự đã tận dụng mô hình ngôn ngữ GPT-3\n",
      "để đào tạo với 12 tỷ tham số của các cặp văn bản-hình ảnh. Giống như con người học cách xác định hình ảnh bằng từ ngữ, Dali hiểu được mối quan hệ giữa từ ngữ và hình ảnh và học cách tạo ra từ trước khi đưa ra từ sau. Mỗi cặp văn bản-hình ảnh chứa 1.208 mã thông báo được đưa vào mô hình dưới dạng một luồng dữ liệu duy nhất. Mỗi mã thông báo đại diện cho một phần cụ thể của hình ảnh. Tuy nhiên, người dùng không phải nhập mô tả văn bản chính xác được đính kèm vào hình ảnh vào cơ sở dữ liệu để có được kết quả. Dữ liệu đào tạo chỉ phục vụ mục đích dạy Dali hiểu mối tương quan giữa từ ngữ và hình ảnh. Nó không hoạt động như một bảng tham chiếu. Blog quảng cáo của OpenAI có thể có các ví dụ được chọn anh đào để thể hiện chất lượng hình ảnh tuyệt vời, nhưng thật khó để bỏ qua sự chú ý mạnh mẽ của mô hình tổng hợp hình ảnh đến từng chi tiết. Trong hình ảnh mẫu,\n",
      "chúng ta thấy trình tạo hình ảnh làm theo các hướng dẫn nhắc nhở đến chi tiết cuối cùng và chúng ta không thể bỏ qua thực tế là nó trung thực nằm trong hướng dẫn của người dùng trong khi giảm thiểu biến dạng. Biến dạng là một vấn đề phổ biến với các trình tạo văn bản thành hình ảnh. Lỗi này chủ yếu xảy ra khi trình tạo phải đối mặt với hình ảnh sở hữu hình học phức tạp, ví dụ như bàn tay của bạn. Generative AI thấy khó tái tạo bàn tay\n",
      "bởi vì họ không có hình dạng và đường dễ nhận biết. Do đó, nó phải tích hợp nhiều hình dạng nếu nó phải hiển thị một bàn tay thực tế. Trong các trường hợp khác, trình tạo hình ảnh chỉ bị nhầm lẫn bất cứ khi nào lời nhắc văn bản quá phức tạp. Nó gặp khó khăn khi làm theo hướng dẫn của bạn và xuất ra một hình ảnh méo mó vẫn giống với lời nhắc văn bản nhưng theo cách kỳ cục. Tạo văn bản trong hình ảnh luôn là một khía cạnh khó hiểu của thiết kế công cụ tạo hình ảnh. Mặc dù nghe có vẻ khó khăn, bao gồm nhãn và văn bản trong hình ảnh được tạo đã khiến các nhà phát triển của các mô hình tổng hợp hình ảnh trước đó bị đau nửa đầu nghiêm trọng. Dali 3 đã giải quyết được câu đố đó. Với Dali 3, việc thêm chú thích hình ảnh của bạn bây giờ là đi bộ trong công viên. Ở một mức độ nào đó, có một cách để giải quyết vấn đề biến dạng, nhưng đó chỉ là nếu bạn biết cách mã hoá. Bạn có thể cải thiện độ trung thực của hình ảnh được tạo bằng cách thực hiện một số kỹ thuật nhắc nhở. Một ví dụ hoàn hảo về mô hình tổng hợp hình ảnh AI yêu cầu hack để tối ưu hoá là Mid Journey. Trình tạo hình ảnh này chỉ có thể tạo ra các chi tiết quang học nếu người dùng tinh chỉnh nhiều cho lời nhắc, nhưng nếu người dùng nghiêm túc sử dụng lời nhắc văn bản như vậy, họ không kiểm soát được đầu ra. Thật không may, chỉ có một số ít người dùng trình tạo hình ảnh có bí quyết kỹ thuật để thực hiện các hack này. Vì vậy, tỷ lệ người dùng lớn hơn phải làm gì? Tìm hiểu các ngôn ngữ lập trình AI? Với Dali 3, bạn không cần phải thực hiện rất nhiều kỹ thuật nhắc nhở phản trực giác. Dali 3 toả sáng trong khả năng tuân theo các hướng dẫn khó khăn và vẫn cung cấp hình ảnh rực rỡ mà không yêu cầu bất kỳ chỉnh sửa bổ sung nào. Như tôi đã đề cập trước đây, Dali 3 được xây dựng trên GPT, vì vậy bạn có thể mượn một số điểm từ trình tạo văn bản nếu bạn cần thêm chi tiết vào tầm nhìn của mình. Chỉ cần nhập một mô tả ngắn về hình ảnh bạn muốn tạo và ChatGPT sẽ cung cấp cho bạn đầu vào tốt nhất có thể để đưa vào lời nhắc của Dali. Ngoài ra, nếu bạn thấy rằng kết quả hình ảnh không bắt được trí tưởng tượng của bạn, bạn có thể yêu cầu ChatGPT giúp cụm từ mô tả văn bản của bạn đúng cách. ChatGPT là tất cả các kỹ thuật nhắc nhở bạn cần. Dali 3 có cùng chính sách bản quyền.\n",
      "như người tiền nhiệm của nó, Dali 2. Bạn có toàn quyền đối với bất kỳ hình ảnh nào bạn tự tạo bằng cách sử dụng trình tạo nghệ thuật này. Bạn không cần sự cho phép của OpenAI để bán hàng hoá, bán hoặc in lại nghệ thuật. Nói về bản quyền, các trình tạo AI đã làm kinh hoàng nhiều nghệ sĩ con người nổi tiếng trên toàn cầu. Trên thực tế, một số người đã đưa vụ án ra toà, đưa ra vụ kiện chống lại các công cụ AI từ văn bản đến hình ảnh vì vi phạm bản quyền.\n",
      "Những nhà thiết kế bất mãn này không hài lòng với việc sao chép phong cách nghệ thuật của họ và sử dụng tác phẩm của họ để đào tạo các mô hình AI mà không có sự đồng ý của họ. Kháng chiến trong nhiều hình dạng và hình thức khác đối với thế hệ nghệ thuật nhân tạo cũng đã tăng lên dưới hình thức các cuộc biểu tình truyền thông xã hội và thậm chí phản đối vật lý. Để làm dịu những người phàn nàn, OpenAI đã thực hiện một số biện pháp để hạn chế việc sử dụng phi đạo đức AI tạo hình ảnh. Các nhà phát triển đã tích hợp các khối để ngăn người dùng nhắc nhở thành công mô hình tạo ra tác phẩm nghệ thuật theo phong cách của các nghệ sĩ sống.\n",
      "Mặc dù không có bài kiểm tra điểm chuẩn cho các quá trình hình ảnh, chúng ta có thể so sánh hiệu quả của mô hình này bằng cách sử dụng các công cụ điều tra tốt nhất được biết đến với con người, R.I.S. Trong minh hoạ này, giao diện điều khiển được nhắc nhở với một văn bản mà đọc, một minh hoạ của một quả bơ ngồi trong ghế của một nhà trị liệu nói, Tôi chỉ cảm thấy rất trống rỗng về kích thước. Khả năng của máy phát điện hình ảnh để làm cho hình ảnh khó khăn và bao gồm văn bản trong họ đi vào chơi ở đây. Bây giờ, để so sánh Dali 3 với đối thủ công nghiệp của nó Mid Journey, hai máy phát điện được mỗi nhắc nhở để sản xuất một hình ảnh của lá người chơi nhạc dân gian trong rừng. Đây là kết quả Dali và nó trông khá ấn tượng.\n",
      "Và ở đây, chúng ta có kết quả của Mid Journey, trông không giống như mô tả của họ.\n",
      "Hướng dẫn đó không phải là cách dễ nhất để làm theo và ví dụ này minh hoạ sở trường của Dali để xử lý các hướng dẫn phức tạp. Nếu bạn muốn thử Dali 3, chỉ cần truy cập bing.com tạo dấu gạch chéo, đăng nhập vào tài khoản Microsoft của bạn và đi bạn đi. Hãy vui vẻ và tạo ra nội dung trái tim của bạn. OpenAI đã củng cố vị trí của mình như là công ty hàng đầu trong không gian AI tạo ra bằng cách chinh phục không gian AI tạo văn bản thành hình ảnh với trình tạo hình ảnh mạnh mẽ Dali 3. Đừng quên để lại ngón tay cái và đăng ký AI Wave để biết tất cả thông tin mới nhất về không gian AI không ngừng phát triển.\n"
     ]
    }
   ],
   "source": [
    "text_file = \"data/merged_texts/GPT_NEEDED_THIS___DALL-E_3_IS_HERE___YOU_CAN_TRY_IT_FREE.csv\"\n",
    "translate_text_segments(text_file)"
   ]
  }
 ],
 "metadata": {
  "kernelspec": {
   "display_name": "vidtrans_env",
   "language": "python",
   "name": "python3"
  },
  "language_info": {
   "codemirror_mode": {
    "name": "ipython",
    "version": 3
   },
   "file_extension": ".py",
   "mimetype": "text/x-python",
   "name": "python",
   "nbconvert_exporter": "python",
   "pygments_lexer": "ipython3",
   "version": "3.10.13"
  }
 },
 "nbformat": 4,
 "nbformat_minor": 2
}
