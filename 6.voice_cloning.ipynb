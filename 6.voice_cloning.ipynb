{
 "cells": [
  {
   "cell_type": "code",
   "execution_count": null,
   "metadata": {},
   "outputs": [],
   "source": [
    "config_file = \"models/voice_clone/config.json\"\n",
    "model_file = \"models/voice_clone/G_415.pth\"\n",
    "input_file = \"data/sound/test_video_2_chunk_000.wav\"\n",
    "output_dir = \"data/translated_audio/test_video_2_chunk_000.wav\"\n",
    "\n",
    "!svc infer {input_file} -m {model_file} -c{config_file} -o {output_dir}"
   ]
  },
  {
   "cell_type": "code",
   "execution_count": null,
   "metadata": {},
   "outputs": [],
   "source": [
    "!svc -h"
   ]
  }
 ],
 "metadata": {
  "kernelspec": {
   "display_name": "vidtrans_env",
   "language": "python",
   "name": "python3"
  },
  "language_info": {
   "codemirror_mode": {
    "name": "ipython",
    "version": 3
   },
   "file_extension": ".py",
   "mimetype": "text/x-python",
   "name": "python",
   "nbconvert_exporter": "python",
   "pygments_lexer": "ipython3",
   "version": "3.10.13"
  }
 },
 "nbformat": 4,
 "nbformat_minor": 2
}
