{
 "cells": [
  {
   "cell_type": "code",
   "execution_count": 1,
   "metadata": {},
   "outputs": [],
   "source": [
    "import subprocess\n",
    "import os\n",
    "\n",
    "\n",
    "def extract_sound(video_file_path, save_dir=\"data/sound\", sample_rate=16000):\n",
    "    file_name = os.path.splitext(os.path.basename(video_file_path))[0] + \".wav\"\n",
    "    out_filepath = os.path.join(save_dir, file_name)\n",
    "    # Delete file if it existed\n",
    "    try:\n",
    "        os.remove(out_filepath)\n",
    "    except OSError:\n",
    "        pass\n",
    "\n",
    "    cmd = f'ffmpeg -i {video_file_path} -ar {sample_rate} -ac 1 -c:a pcm_s16le {out_filepath} -loglevel warning'\n",
    "    print(f\"{cmd}\")\n",
    "    subprocess.run(cmd.split())\n",
    "    print(f\"Successfully extract sound from video, save at {out_filepath}\")\n",
    "    return out_filepath\n",
    "\n",
    "def remove_sound(video_file_path, save_dir=\"data/video_no_sound\"):\n",
    "    file_name = os.path.basename(video_file_path)\n",
    "    out_filepath = os.path.join(save_dir, file_name)\n",
    "    # Delete file if it existed\n",
    "    try:\n",
    "        os.remove(out_filepath)\n",
    "    except OSError:\n",
    "        pass\n",
    "\n",
    "    cmd = f\"ffmpeg -i {video_file_path} -c:v copy -an {out_filepath} -loglevel warning\"\n",
    "    subprocess.run(cmd.split())\n",
    "    print(f\"Successfully remove sound from video, save at {out_filepath}\")\n",
    "    return out_filepath"
   ]
  },
  {
   "cell_type": "code",
   "execution_count": 6,
   "metadata": {},
   "outputs": [
    {
     "name": "stdout",
     "output_type": "stream",
     "text": [
      "ffmpeg -i data/videos/eng_male_test_03.mp4 -ar 16000 -ac 1 -c:a pcm_s16le data/sound/eng_male_test_03.wav -loglevel warning\n",
      "Successfully extract sound from video, save at data/sound/eng_male_test_03.wav\n",
      "Successfully remove sound from video, save at data/video_no_sound/eng_male_test_03.mp4\n"
     ]
    },
    {
     "data": {
      "text/plain": [
       "'data/video_no_sound/eng_male_test_03.mp4'"
      ]
     },
     "execution_count": 6,
     "metadata": {},
     "output_type": "execute_result"
    }
   ],
   "source": [
    "video_path = \"data/videos/eng_male_test_03.mp4\"\n",
    "extract_sound(video_path)\n",
    "remove_sound(video_path)\n"
   ]
  },
  {
   "cell_type": "code",
   "execution_count": null,
   "metadata": {},
   "outputs": [],
   "source": []
  }
 ],
 "metadata": {
  "kernelspec": {
   "display_name": "vidtrans_env",
   "language": "python",
   "name": "python3"
  },
  "language_info": {
   "codemirror_mode": {
    "name": "ipython",
    "version": 3
   },
   "file_extension": ".py",
   "mimetype": "text/x-python",
   "name": "python",
   "nbconvert_exporter": "python",
   "pygments_lexer": "ipython3",
   "version": "3.10.13"
  }
 },
 "nbformat": 4,
 "nbformat_minor": 2
}
